{
 "cells": [
  {
   "cell_type": "code",
   "execution_count": 46,
   "metadata": {},
   "outputs": [],
   "source": [
    "from mnist import MNIST\n",
    "import random\n",
    "import numpy as np\n",
    "import matplotlib.pyplot as plt\n",
    "import itertools"
   ]
  },
  {
   "cell_type": "code",
   "execution_count": 19,
   "metadata": {},
   "outputs": [],
   "source": [
    "mntrain = MNIST('../samples')"
   ]
  },
  {
   "cell_type": "code",
   "execution_count": 21,
   "metadata": {},
   "outputs": [],
   "source": [
    "img_tr,lbl_tr = mntrain.load_training()\n",
    "img_ts,lbl_ts = mntrain.load_testing()\n",
    "img_size = 28 # 28x28 pixels"
   ]
  },
  {
   "cell_type": "code",
   "execution_count": 26,
   "metadata": {},
   "outputs": [
    {
     "name": "stdout",
     "output_type": "stream",
     "text": [
      "Label:  9\n",
      "\n",
      "............................\n",
      "............................\n",
      "............................\n",
      "............................\n",
      "............................\n",
      "............................\n",
      "............................\n",
      "...........@@@@@@...........\n",
      "..........@@@@@@@@..........\n",
      ".........@@@@...@@@.........\n",
      "........@@@@.....@@@........\n",
      "........@@@......@@@........\n",
      ".......@@@......@@@@........\n",
      ".......@@.......@@@@........\n",
      "......@@@.....@@@@@@........\n",
      ".......@@@...@@@@@@.........\n",
      "........@@@@@@@@@@@.........\n",
      "..........@@@...@@@.........\n",
      "................@@..........\n",
      "................@@..........\n",
      "................@@..........\n",
      "................@@..........\n",
      "...............@@@..........\n",
      "...............@@@@.........\n",
      "...............@@@@.........\n",
      "................@@..........\n",
      "............................\n",
      "............................\n",
      "28.0\n"
     ]
    }
   ],
   "source": [
    "index = random.randrange(0,len(images))\n",
    "print(\"Label: \",labels[index])\n",
    "print(mntrain.display(images[index]))"
   ]
  },
  {
   "cell_type": "code",
   "execution_count": 45,
   "metadata": {},
   "outputs": [
    {
     "data": {
      "image/png": "[encoded data removed]",
      "text/plain": [
       "<Figure size 432x288 with 1 Axes>"
      ]
     },
     "metadata": {
      "needs_background": "light"
     },
     "output_type": "display_data"
    }
   ],
   "source": [
    "image = np.array(img_tr[index]).reshape(img_size,img_size)\n",
    "plt.imshow(image, cmap=plt.cm.binary)\n",
    "plt.gcf().axes[0].set_axis_off()"
   ]
  },
  {
   "cell_type": "code",
   "execution_count": 70,
   "metadata": {},
   "outputs": [
    {
     "data": {
      "text/plain": [
       "array([[0., 0.],\n",
       "       [0., 0.],\n",
       "       [0., 0.],\n",
       "       [0., 0.],\n",
       "       [0., 0.],\n",
       "       [0., 0.],\n",
       "       [0., 0.],\n",
       "       [0., 0.],\n",
       "       [0., 0.],\n",
       "       [0., 0.]])"
      ]
     },
     "execution_count": 70,
     "metadata": {},
     "output_type": "execute_result"
    }
   ],
   "source": [
    "np.zeros((10,2))"
   ]
  },
  {
   "cell_type": "code",
   "execution_count": 109,
   "metadata": {},
   "outputs": [],
   "source": [
    "\n",
    "class Layer:\n",
    "    def __init__(self, depth, length,values=None):\n",
    "        self.depth = depth\n",
    "        self.length = length\n",
    "        self.nodes = np.array([values for i in range(length)]) if values else np.zeros(length)\n",
    "    def __str__(self):\n",
    "        return \"Layer: depth: %d, length: %d, nodes: %s\" % (self.depth, self.length, self.nodes)\n",
    "    def __repr__(self):\n",
    "        return self.__str__()\n",
    "    def __getitem__(self, index):\n",
    "        return self.nodes[index]\n",
    "    def __setitem__(self, index, value):\n",
    "        self.nodes[index].value = value\n",
    "    def __iter__(self):\n",
    "        return iter(self.nodes)\n",
    "    def __len__(self):\n",
    "        return len(self.nodes)\n",
    "    def __contains__(self, item):\n",
    "        return item in self.nodes\n",
    "    def __delitem__(self, index):\n",
    "        del self.nodes[index]\n",
    "    \n",
    "    def get_values(self):\n",
    "        return self.nodes\n",
    "    def set_values(self, values):\n",
    "        self.nodes = np.array(values)\n",
    "    values = property(get_values, set_values)\n",
    "\n",
    "class Neuron:\n",
    "    def __init__(self, weights, bias):\n",
    "        self.weights = weights\n",
    "        self.bias = bias\n",
    "    def __str__(self):\n",
    "        return \"Neuron: weights: %s, bias: %s\" % (self.weights, self.bias)\n",
    "    def __repr__(self):\n",
    "        return self.__str__()\n",
    "    \n",
    "class Layer_Connection:\n",
    "    def __init__(self, layer1, layer2):\n",
    "        self.layer1 = layer1\n",
    "        self.layer2 = layer2\n",
    "        self.neuron_weights = np.random.rand(len(layer2), len(layer1))\n",
    "        self.neuron_biases = np.random.rand(len(layer2))\n",
    "\n",
    "            \n",
    "    def __str__(self):\n",
    "        return \"Layer_Connection: layer1: %s, layer2: %s, weights: %s, biases: %s\" % (self.layer1, self.layer2, self.neuron_weights, self.neuron_biases)\n",
    "    def __repr__(self):\n",
    "        return self.__str__()\n",
    "    def __getitem__(self, index):\n",
    "        return self.neuron_weights[index]\n",
    "    def __setitem__(self, index, value):\n",
    "        self.neuron_weights[index] = value\n",
    "    def __iter__(self):\n",
    "        return iter(self.neuron_weights)\n",
    "    def __len__(self):\n",
    "        return len(self.neuron_weights)\n",
    "    def __contains__(self, item):\n",
    "        return item in self.neuron_weights\n",
    "    def __delitem__(self, index):\n",
    "        del self.neuron_weights[index]\n",
    "\n",
    "\n",
    "class Neural_Network:\n",
    "    def __init__(self, input_size, output_size,hidden_size, hidden_layers=1):\n",
    "        self.input_size = input_size\n",
    "        self.hidden_size = hidden_size\n",
    "        self.output_size = output_size\n",
    "        self.layers = [Layer(0, input_size)]\n",
    "        self.layers.extend([Layer(i+1, hidden_size) for i in range(hidden_layers)])\n",
    "        self.layers.append(Layer(hidden_layers+1, output_size))\n",
    "        self.connections = [Layer_Connection(self.layers[i], self.layers[i+1]) for i in range(len(self.layers)-1)]\n",
    "    \n",
    "    def __str__(self):\n",
    "        return \"Neural_Network: input_size: %d, hidden_size: %d, output_size: %d, hidden_layers: %d, layers: %s, connections: %s\" % (self.input_size, self.hidden_size, self.output_size, len(self.layers)-2, self.layers, self.connections)\n",
    "    def __repr__(self):\n",
    "        return self.__str__()\n",
    "    \n",
    "    def input_image(self, image):\n",
    "        self.layers[0].values = image\n",
    "    def output_image(self):\n",
    "        return self.layers[-1].values\n",
    "    def feed_forward(self):\n",
    "        for i in self.layers[1:]:\n",
    "            print(i.depth)\n",
    "            np.matmul(self.connections[i.depth-1].neuron_weights, self.layers[i.depth-1].values, out=self.layers[i.depth].values)    \n",
    "            self.layers[i.depth].values += self.connections[i.depth-1].neuron_biases\n",
    "            self.layers[i.depth].values = 1/(1+np.exp(-self.layers[i.depth].values))\n",
    "    def back_propagate(self, expected):\n",
    "        error = expected - self.output_image()\n",
    "        for i in range(len(self.layers)-1, 0, -1):\n",
    "            self.connections[i-1].neuron_biases += error\n",
    "            self.connections[i-1].neuron_weights += np.outer(self.layers[i-1].values, error)\n",
    "            error = np.matmul(self.connections[i-1].neuron_weights, error)\n",
    "            "
   ]
  },
  {
   "cell_type": "code",
   "execution_count": 110,
   "metadata": {},
   "outputs": [],
   "source": [
    "nn = Neural_Network(784, 10, 16, 2)"
   ]
  },
  {
   "cell_type": "code",
   "execution_count": 111,
   "metadata": {},
   "outputs": [],
   "source": [
    "nn.input_image(img_tr[0])"
   ]
  },
  {
   "cell_type": "code",
   "execution_count": 113,
   "metadata": {},
   "outputs": [
    {
     "name": "stdout",
     "output_type": "stream",
     "text": [
      "1\n",
      "2\n",
      "3\n"
     ]
    }
   ],
   "source": [
    "nn.feed_forward()"
   ]
  },
  {
   "cell_type": "code",
   "execution_count": 114,
   "metadata": {},
   "outputs": [
    {
     "data": {
      "text/plain": [
       "array([0.99995965, 0.99974451, 0.99960896, 0.99872731, 0.99995571,\n",
       "       0.99983959, 0.9984753 , 0.99935898, 0.99991505, 0.99989773])"
      ]
     },
     "execution_count": 114,
     "metadata": {},
     "output_type": "execute_result"
    }
   ],
   "source": [
    "nn.output_image()"
   ]
  },
  {
   "cell_type": "code",
   "execution_count": null,
   "metadata": {},
   "outputs": [],
   "source": [
    "class Neural_Network():\n",
    "    def __init__(self, input_size, hidden_size, output_size):\n",
    "        self.input_size = input_size\n",
    "        self.hidden_size = hidden_size\n",
    "        self.output_size = output_size\n",
    "\n",
    "        self.W1 = np.random.randn(self.input_size, self.hidden_size)\n",
    "        self.W2 = np.random.randn(self.hidden_size, self.output_size)\n",
    "        \n",
    "    def forward(self, X):"
   ]
  },
  {
   "cell_type": "code",
   "execution_count": 50,
   "metadata": {},
   "outputs": [
    {
     "data": {
      "text/plain": [
       "array([], dtype=float64)"
      ]
     },
     "execution_count": 50,
     "metadata": {},
     "output_type": "execute_result"
    }
   ],
   "source": [
    "x  = np.array([])\n",
    "x"
   ]
  },
  {
   "cell_type": "code",
   "execution_count": null,
   "metadata": {},
   "outputs": [],
   "source": []
  }
 ],
 "metadata": {
  "kernelspec": {
   "display_name": "base",
   "language": "python",
   "name": "python3"
  },
  "language_info": {
   "codemirror_mode": {
    "name": "ipython",
    "version": 3
   },
   "file_extension": ".py",
   "mimetype": "text/x-python",
   "name": "python",
   "nbconvert_exporter": "python",
   "pygments_lexer": "ipython3",
   "version": "3.8.8"
  },
  "orig_nbformat": 4
 },
 "nbformat": 4,
 "nbformat_minor": 2
}
