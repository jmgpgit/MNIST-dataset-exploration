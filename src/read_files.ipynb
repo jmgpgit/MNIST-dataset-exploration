{
 "cells": [
  {
   "cell_type": "code",
   "execution_count": 19,
   "metadata": {},
   "outputs": [],
   "source": [
    "from mnist import MNIST\n",
    "import random\n",
    "import numpy as np\n",
    "import matplotlib.pyplot as plt\n",
    "import itertools\n",
    "from tqdm import tqdm\n",
    "from more_itertools import chunked"
   ]
  },
  {
   "cell_type": "code",
   "execution_count": 6,
   "metadata": {},
   "outputs": [],
   "source": [
    "mntrain = MNIST('../samples')"
   ]
  },
  {
   "cell_type": "code",
   "execution_count": 7,
   "metadata": {},
   "outputs": [],
   "source": [
    "img_tr,lbl_tr = mntrain.load_training()\n",
    "img_ts,lbl_ts = mntrain.load_testing()\n",
    "img_size = 28 # 28x28 pixels"
   ]
  },
  {
   "cell_type": "code",
   "execution_count": 8,
   "metadata": {},
   "outputs": [
    {
     "name": "stdout",
     "output_type": "stream",
     "text": [
      "Label:  4\n"
     ]
    },
    {
     "data": {
      "image/png": "[encoded data removed]",
      "text/plain": [
       "<Figure size 432x288 with 1 Axes>"
      ]
     },
     "metadata": {
      "needs_background": "light"
     },
     "output_type": "display_data"
    }
   ],
   "source": [
    "index = random.randrange(0,len(img_tr))\n",
    "print(\"Label: \",lbl_tr[index])\n",
    "image = np.array(img_tr[index]).reshape(img_size,img_size)\n",
    "plt.imshow(image, cmap=plt.cm.binary)\n",
    "plt.gcf().axes[0].set_axis_off()"
   ]
  },
  {
   "cell_type": "code",
   "execution_count": 9,
   "metadata": {},
   "outputs": [
    {
     "data": {
      "text/plain": [
       "[9, 8, 7, 6, 5, 4, 3, 2, 1, 0]"
      ]
     },
     "execution_count": 9,
     "metadata": {},
     "output_type": "execute_result"
    }
   ],
   "source": [
    "x = [0,1,2,3,4,5,6,7,8,9]\n",
    "list(reversed(x))"
   ]
  },
  {
   "cell_type": "code",
   "execution_count": 10,
   "metadata": {},
   "outputs": [
    {
     "data": {
      "text/plain": [
       "array([0., 0., 0., 0., 0.])"
      ]
     },
     "execution_count": 10,
     "metadata": {},
     "output_type": "execute_result"
    }
   ],
   "source": [
    "np.matmul(np.zeros((5,2)),np.array([4,5]))"
   ]
  },
  {
   "cell_type": "code",
   "execution_count": 11,
   "metadata": {},
   "outputs": [
    {
     "name": "stdout",
     "output_type": "stream",
     "text": [
      "0.26148137523724924 0.5692632702448743\n",
      "0.34471530935630146 0.4916923156362004\n",
      "0.003958359650476195 0.3812837419654176\n",
      "0.7662105632930678 0.7314105715358448\n",
      "0.6463628806765723 0.5137463764701271\n",
      "[[0.26148138 0.56926327]\n",
      " [0.34471531 0.49169232]\n",
      " [0.00395836 0.38128374]\n",
      " [0.76621056 0.73141057]\n",
      " [0.64636288 0.51374638]]\n"
     ]
    }
   ],
   "source": [
    "weights = np.random.rand(5, 2)\n",
    "biases = np.random.rand(5,1)\n",
    "for i,layer in weights:\n",
    "    print(i,layer)\n",
    "print(weights)"
   ]
  },
  {
   "cell_type": "code",
   "execution_count": 40,
   "metadata": {},
   "outputs": [],
   "source": [
    "def sigmoid(x):\n",
    "    return 1/(1+np.exp(-x))\n",
    "def d_sigmoid(x):\n",
    "    return sigmoid(x)*(1-sigmoid(x))\n",
    "def d_sig(x):\n",
    "    return x*(1-x)\n",
    "\n",
    "class Layer:\n",
    "    def __init__(self, depth, length,values=None):\n",
    "        self.depth = depth\n",
    "        self.length = length\n",
    "        self.nodes = np.array([values for _ in range(length)]) if values else np.zeros(length)\n",
    "    def __str__(self):\n",
    "        return \"Layer: depth: %d, length: %d, nodes: %s\" % (self.depth, self.length, self.nodes)\n",
    "    def __repr__(self):\n",
    "        return self.__str__()\n",
    "    def __getitem__(self, index):\n",
    "        return self.nodes[index]\n",
    "    def __setitem__(self, index, value):\n",
    "        self.nodes[index].value = value\n",
    "    def __iter__(self):\n",
    "        return iter(self.nodes)\n",
    "    def __len__(self):\n",
    "        return len(self.nodes)\n",
    "    def __contains__(self, item):\n",
    "        return item in self.nodes\n",
    "    def __delitem__(self, index):\n",
    "        del self.nodes[index]\n",
    "    \n",
    "    def get_values(self):\n",
    "        return self.nodes\n",
    "    def set_values(self, values):\n",
    "        self.nodes = np.array(values)\n",
    "    values = property(get_values, set_values)\n",
    "\n",
    "    \n",
    "class Neurons:\n",
    "    def __init__(self, input: Layer, output: Layer):\n",
    "        self.input = input\n",
    "        self.output = output\n",
    "        self.weights = np.random.rand(len(output), len(input))\n",
    "        self.biases = np.random.rand(len(output))\n",
    "\n",
    "            \n",
    "    def __str__(self):\n",
    "        return \"Layer_Connection: layer1: %s, layer2: %s, weights: %s, biases: %s\" % (self.input, self.output, self.weights, self.biases)\n",
    "    def __repr__(self):\n",
    "        return self.__str__()\n",
    "    def __getitem__(self, index):\n",
    "        return self.weights[index]\n",
    "    def __setitem__(self, index, value):\n",
    "        self.weights[index] = value\n",
    "    def __iter__(self):\n",
    "        return iter(self.weights)\n",
    "    def __len__(self):\n",
    "        return self.weights.shape[0] * self.weights.shape[1]\n",
    "    def __contains__(self, layer):\n",
    "        return layer in (self.input, self.output)\n",
    "    def __delitem__(self, index):\n",
    "        del self.weights[index]\n",
    "\n",
    "\n",
    "class Neural_Network:\n",
    "    def __init__(self, input_size, output_size,hidden_size, hidden_layers=1, batch_size=1):\n",
    "        self.input_size = input_size\n",
    "        self.hidden_size = hidden_size\n",
    "        self.output_size = output_size\n",
    "        self.batch_size = batch_size\n",
    "        self.layers = [Layer(0, input_size)]\n",
    "        self.layers.extend([Layer(i+1, hidden_size) for i in range(hidden_layers)])\n",
    "        self.layers.append(Layer(hidden_layers+1, output_size))\n",
    "        self.neurons = [Neurons(self.layers[i], self.layers[i+1]) for i in range(len(self.layers)-1)]\n",
    "    \n",
    "    def __str__(self):\n",
    "        return \"Neural_Network: input_size: %d, hidden_size: %d, output_size: %d, hidden_layers: %d, layers: %s, connections: %s\" % (self.input_size, self.hidden_size, self.output_size, len(self.layers)-2, self.layers, self.neurons)\n",
    "    def __repr__(self):\n",
    "        return self.__str__()\n",
    "        \n",
    "    def output_vector(self):\n",
    "        return self.layers[-1].values\n",
    "    \n",
    "    def output(self):\n",
    "        return np.argmax(self.output_vector())\n",
    "    \n",
    "    def feed_forward(self, image):\n",
    "        self.layers[0].values = image\n",
    "        for neuron in self.neurons:\n",
    "            neuron.output.values = sigmoid(np.matmul(neuron.weights, neuron.input.values) + neuron.biases)\n",
    "\n",
    "\n",
    "    def back_propagate(self, image, expected, factor):\n",
    "        self.feed_forward(image)\n",
    "        # error = np.sum((self.layers[-1].values - expected)**2)\n",
    "        # error = np.sum(\n",
    "        # (sigmoid(np.matmul(self.layers[-1].weights, self.layers[-2].values) + self.layers[-1].biases)\n",
    "        # - expected)**2)\n",
    "        # nabla_error = 2 * (self.layers[-1].values - expected) * d_sig(self.layers[-1].values)\n",
    "        # w_nabla = nabla_error * self.layers[-2].values\n",
    "        # b_nabla = nabla_error\n",
    "        # self.layers[-1].weights -= factor * w_nabla\n",
    "        # self.layers[-1].biases -= factor * b_nabla\n",
    "        for j,i in enumerate(self.neurons[::-1]):\n",
    "            if j == 0:\n",
    "                nabla_error = 2 * (i.output.values - expected) * d_sig(i.output.values)\n",
    "            else:\n",
    "                nabla_error = np.matmul(i.weights.T, nabla_error) * d_sig(i.output.values)\n",
    "            \n",
    "            for k in range(len(i.weights)):\n",
    "                for l in range(len(i.weights[0])):\n",
    "                    i.weights[k][l] -= factor * nabla_error[k] * i.input.values[l]\n",
    "            i.biases -= factor * nabla_error\n",
    "\n",
    "\n",
    "\n",
    "\n",
    "\n",
    "\n",
    "\n",
    "    # def back_propagate(self, expected, factor):\n",
    "    #     for i in reversed(self.neurons):\n",
    "    #         diff = i.output.values - expected\n",
    "    #         der = d_sig(i.output.values)\n",
    "    #         coeff = factor * 2 * diff * der\n",
    "\n",
    "    #         expected = np.matmul(i.weights.T, diff)\n",
    "    #         for k,k1 in enumerate(i.weights):\n",
    "    #             for j,j1 in enumerate(k1):\n",
    "    #                 i.weights[k][j] = i.weights[k][j] - coeff[k] * i.input.values[k]\n",
    "                \n",
    "\n",
    "    #         i.biases = coeff\n",
    "            \n",
    "            \n",
    "\n",
    "            \n",
    "            # j = self.neurons[i]\n",
    "            # if i == len(self.neurons)-1:\n",
    "            #     error = expected - j.layer2.values\n",
    "            # else:\n",
    "            #     error = np.matmul(self.neurons[i+1].weights.T, error)\n",
    "            # delta = error * j.layer2.values * (1-j.layer2.values)\n",
    "            # j.weights += factor * np.matmul(delta.reshape(len(delta),1), j.layer1.values.reshape(1,len(j.layer1.values)))\n",
    "            # j.biases += factor * delta\n",
    "            #print(j.weights)\n",
    "            #print(j.biases)\n",
    "            #print(error)\n",
    "            #print(delta)\n",
    "    \n",
    "    def test(self, images, labels):\n",
    "        correct = 0\n",
    "        for i in tqdm(range(len(images))):\n",
    "            self.feed_forward(images[i])\n",
    "            if self.output() == labels[i]:\n",
    "                correct += 1\n",
    "        return correct/len(images)\n",
    "\n",
    "              \n",
    "    def train(self, images, labels, epochs=1, factor=0.1):\n",
    "        for _ in range(epochs):\n",
    "            for j in tqdm(range(len(images))):\n",
    "                expected = np.zeros(self.output_size)\n",
    "                expected[labels[j]] = 1\n",
    "                self.back_propagate(expected,factor)"
   ]
  },
  {
   "cell_type": "code",
   "execution_count": 41,
   "metadata": {},
   "outputs": [],
   "source": [
    "nn = Neural_Network(784, 10, 16, 1)"
   ]
  },
  {
   "cell_type": "code",
   "execution_count": 42,
   "metadata": {},
   "outputs": [],
   "source": [
    "w1,b1, w0,b0 = nn.neurons[0].weights, nn.neurons[0].biases , nn.neurons[1].weights, nn.neurons[1].biases"
   ]
  },
  {
   "cell_type": "code",
   "execution_count": 43,
   "metadata": {},
   "outputs": [
    {
     "name": "stdout",
     "output_type": "stream",
     "text": [
      "5 [0, 0, 0, 0, 0, 0, 0, 0, 0, 0, 0, 0, 0, 0, 0, 0, 0, 0, 0, 0, 0, 0, 0, 0, 0, 0, 0, 0, 0, 0, 0, 0, 0, 0, 0, 0, 0, 0, 0, 0, 0, 0, 0, 0, 0, 0, 0, 0, 0, 0, 0, 0, 0, 0, 0, 0, 0, 0, 0, 0, 0, 0, 0, 0, 0, 0, 0, 0, 0, 0, 0, 0, 0, 0, 0, 0, 0, 0, 0, 0, 0, 0, 0, 0, 0, 0, 0, 0, 0, 0, 0, 0, 0, 0, 0, 0, 0, 0, 0, 0, 0, 0, 0, 0, 0, 0, 0, 0, 0, 0, 0, 0, 0, 0, 0, 0, 0, 0, 0, 0, 0, 0, 0, 0, 0, 0, 0, 0, 0, 0, 0, 0, 0, 0, 0, 0, 0, 0, 0, 0, 0, 0, 0, 0, 0, 0, 0, 0, 0, 0, 0, 0, 3, 18, 18, 18, 126, 136, 175, 26, 166, 255, 247, 127, 0, 0, 0, 0, 0, 0, 0, 0, 0, 0, 0, 0, 30, 36, 94, 154, 170, 253, 253, 253, 253, 253, 225, 172, 253, 242, 195, 64, 0, 0, 0, 0, 0, 0, 0, 0, 0, 0, 0, 49, 238, 253, 253, 253, 253, 253, 253, 253, 253, 251, 93, 82, 82, 56, 39, 0, 0, 0, 0, 0, 0, 0, 0, 0, 0, 0, 0, 18, 219, 253, 253, 253, 253, 253, 198, 182, 247, 241, 0, 0, 0, 0, 0, 0, 0, 0, 0, 0, 0, 0, 0, 0, 0, 0, 0, 0, 80, 156, 107, 253, 253, 205, 11, 0, 43, 154, 0, 0, 0, 0, 0, 0, 0, 0, 0, 0, 0, 0, 0, 0, 0, 0, 0, 0, 0, 14, 1, 154, 253, 90, 0, 0, 0, 0, 0, 0, 0, 0, 0, 0, 0, 0, 0, 0, 0, 0, 0, 0, 0, 0, 0, 0, 0, 0, 0, 139, 253, 190, 2, 0, 0, 0, 0, 0, 0, 0, 0, 0, 0, 0, 0, 0, 0, 0, 0, 0, 0, 0, 0, 0, 0, 0, 0, 11, 190, 253, 70, 0, 0, 0, 0, 0, 0, 0, 0, 0, 0, 0, 0, 0, 0, 0, 0, 0, 0, 0, 0, 0, 0, 0, 0, 0, 35, 241, 225, 160, 108, 1, 0, 0, 0, 0, 0, 0, 0, 0, 0, 0, 0, 0, 0, 0, 0, 0, 0, 0, 0, 0, 0, 0, 0, 81, 240, 253, 253, 119, 25, 0, 0, 0, 0, 0, 0, 0, 0, 0, 0, 0, 0, 0, 0, 0, 0, 0, 0, 0, 0, 0, 0, 0, 45, 186, 253, 253, 150, 27, 0, 0, 0, 0, 0, 0, 0, 0, 0, 0, 0, 0, 0, 0, 0, 0, 0, 0, 0, 0, 0, 0, 0, 16, 93, 252, 253, 187, 0, 0, 0, 0, 0, 0, 0, 0, 0, 0, 0, 0, 0, 0, 0, 0, 0, 0, 0, 0, 0, 0, 0, 0, 0, 249, 253, 249, 64, 0, 0, 0, 0, 0, 0, 0, 0, 0, 0, 0, 0, 0, 0, 0, 0, 0, 0, 0, 0, 0, 46, 130, 183, 253, 253, 207, 2, 0, 0, 0, 0, 0, 0, 0, 0, 0, 0, 0, 0, 0, 0, 0, 0, 0, 0, 0, 39, 148, 229, 253, 253, 253, 250, 182, 0, 0, 0, 0, 0, 0, 0, 0, 0, 0, 0, 0, 0, 0, 0, 0, 0, 0, 24, 114, 221, 253, 253, 253, 253, 201, 78, 0, 0, 0, 0, 0, 0, 0, 0, 0, 0, 0, 0, 0, 0, 0, 0, 0, 23, 66, 213, 253, 253, 253, 253, 198, 81, 2, 0, 0, 0, 0, 0, 0, 0, 0, 0, 0, 0, 0, 0, 0, 0, 0, 18, 171, 219, 253, 253, 253, 253, 195, 80, 9, 0, 0, 0, 0, 0, 0, 0, 0, 0, 0, 0, 0, 0, 0, 0, 0, 55, 172, 226, 253, 253, 253, 253, 244, 133, 11, 0, 0, 0, 0, 0, 0, 0, 0, 0, 0, 0, 0, 0, 0, 0, 0, 0, 0, 136, 253, 253, 253, 212, 135, 132, 16, 0, 0, 0, 0, 0, 0, 0, 0, 0, 0, 0, 0, 0, 0, 0, 0, 0, 0, 0, 0, 0, 0, 0, 0, 0, 0, 0, 0, 0, 0, 0, 0, 0, 0, 0, 0, 0, 0, 0, 0, 0, 0, 0, 0, 0, 0, 0, 0, 0, 0, 0, 0, 0, 0, 0, 0, 0, 0, 0, 0, 0, 0, 0, 0, 0, 0, 0, 0, 0, 0, 0, 0, 0, 0, 0, 0, 0, 0, 0, 0, 0, 0, 0, 0, 0, 0, 0, 0, 0, 0, 0, 0, 0, 0, 0, 0, 0, 0, 0, 0]\n"
     ]
    }
   ],
   "source": [
    "img, lbl = img_tr[0], lbl_tr[0]\n",
    "print(lbl, img)"
   ]
  },
  {
   "cell_type": "code",
   "execution_count": 44,
   "metadata": {},
   "outputs": [
    {
     "ename": "ValueError",
     "evalue": "matmul: Input operand 1 has a mismatch in its core dimension 0, with gufunc signature (n?,k),(k,m?)->(n?,m?) (size 10 is different from 16)",
     "output_type": "error",
     "traceback": [
      "\u001b[1;31m---------------------------------------------------------------------------\u001b[0m",
      "\u001b[1;31mValueError\u001b[0m                                Traceback (most recent call last)",
      "\u001b[1;32m<ipython-input-44-8f17e8bdedbf>\u001b[0m in \u001b[0;36m<module>\u001b[1;34m\u001b[0m\n\u001b[0;32m      1\u001b[0m \u001b[0mexp\u001b[0m \u001b[1;33m=\u001b[0m \u001b[0mnp\u001b[0m\u001b[1;33m.\u001b[0m\u001b[0mzeros\u001b[0m\u001b[1;33m(\u001b[0m\u001b[1;36m10\u001b[0m\u001b[1;33m)\u001b[0m\u001b[1;33m\u001b[0m\u001b[1;33m\u001b[0m\u001b[0m\n\u001b[0;32m      2\u001b[0m \u001b[0mexp\u001b[0m\u001b[1;33m[\u001b[0m\u001b[0mlbl\u001b[0m\u001b[1;33m]\u001b[0m \u001b[1;33m=\u001b[0m \u001b[1;36m1\u001b[0m\u001b[1;33m\u001b[0m\u001b[1;33m\u001b[0m\u001b[0m\n\u001b[1;32m----> 3\u001b[1;33m \u001b[0mnn\u001b[0m\u001b[1;33m.\u001b[0m\u001b[0mback_propagate\u001b[0m\u001b[1;33m(\u001b[0m\u001b[0mimg\u001b[0m\u001b[1;33m,\u001b[0m \u001b[0mexp\u001b[0m\u001b[1;33m,\u001b[0m \u001b[1;36m0.1\u001b[0m\u001b[1;33m)\u001b[0m\u001b[1;33m\u001b[0m\u001b[1;33m\u001b[0m\u001b[0m\n\u001b[0m",
      "\u001b[1;32m<ipython-input-40-15565fa09adf>\u001b[0m in \u001b[0;36mback_propagate\u001b[1;34m(self, image, expected, factor)\u001b[0m\n\u001b[0;32m    104\u001b[0m                 \u001b[0mnabla_error\u001b[0m \u001b[1;33m=\u001b[0m \u001b[1;36m2\u001b[0m \u001b[1;33m*\u001b[0m \u001b[1;33m(\u001b[0m\u001b[0mi\u001b[0m\u001b[1;33m.\u001b[0m\u001b[0moutput\u001b[0m\u001b[1;33m.\u001b[0m\u001b[0mvalues\u001b[0m \u001b[1;33m-\u001b[0m \u001b[0mexpected\u001b[0m\u001b[1;33m)\u001b[0m \u001b[1;33m*\u001b[0m \u001b[0md_sig\u001b[0m\u001b[1;33m(\u001b[0m\u001b[0mi\u001b[0m\u001b[1;33m.\u001b[0m\u001b[0moutput\u001b[0m\u001b[1;33m.\u001b[0m\u001b[0mvalues\u001b[0m\u001b[1;33m)\u001b[0m\u001b[1;33m\u001b[0m\u001b[1;33m\u001b[0m\u001b[0m\n\u001b[0;32m    105\u001b[0m             \u001b[1;32melse\u001b[0m\u001b[1;33m:\u001b[0m\u001b[1;33m\u001b[0m\u001b[1;33m\u001b[0m\u001b[0m\n\u001b[1;32m--> 106\u001b[1;33m                 \u001b[0mnabla_error\u001b[0m \u001b[1;33m=\u001b[0m \u001b[0mnp\u001b[0m\u001b[1;33m.\u001b[0m\u001b[0mmatmul\u001b[0m\u001b[1;33m(\u001b[0m\u001b[0mi\u001b[0m\u001b[1;33m.\u001b[0m\u001b[0mweights\u001b[0m\u001b[1;33m.\u001b[0m\u001b[0mT\u001b[0m\u001b[1;33m,\u001b[0m \u001b[0mnabla_error\u001b[0m\u001b[1;33m)\u001b[0m \u001b[1;33m*\u001b[0m \u001b[0md_sig\u001b[0m\u001b[1;33m(\u001b[0m\u001b[0mi\u001b[0m\u001b[1;33m.\u001b[0m\u001b[0moutput\u001b[0m\u001b[1;33m.\u001b[0m\u001b[0mvalues\u001b[0m\u001b[1;33m)\u001b[0m\u001b[1;33m\u001b[0m\u001b[1;33m\u001b[0m\u001b[0m\n\u001b[0m\u001b[0;32m    107\u001b[0m \u001b[1;33m\u001b[0m\u001b[0m\n\u001b[0;32m    108\u001b[0m             \u001b[1;32mfor\u001b[0m \u001b[0mk\u001b[0m \u001b[1;32min\u001b[0m \u001b[0mrange\u001b[0m\u001b[1;33m(\u001b[0m\u001b[0mlen\u001b[0m\u001b[1;33m(\u001b[0m\u001b[0mi\u001b[0m\u001b[1;33m.\u001b[0m\u001b[0mweights\u001b[0m\u001b[1;33m)\u001b[0m\u001b[1;33m)\u001b[0m\u001b[1;33m:\u001b[0m\u001b[1;33m\u001b[0m\u001b[1;33m\u001b[0m\u001b[0m\n",
      "\u001b[1;31mValueError\u001b[0m: matmul: Input operand 1 has a mismatch in its core dimension 0, with gufunc signature (n?,k),(k,m?)->(n?,m?) (size 10 is different from 16)"
     ]
    }
   ],
   "source": [
    "exp = np.zeros(10)\n",
    "exp[lbl] = 1\n",
    "nn.back_propagate(img, exp, 0.1)"
   ]
  },
  {
   "cell_type": "code",
   "execution_count": 17,
   "metadata": {},
   "outputs": [
    {
     "name": "stderr",
     "output_type": "stream",
     "text": [
      "100%|██████████| 60000/60000 [08:18<00:00, 120.35it/s]\n"
     ]
    }
   ],
   "source": [
    "nn.train(img_tr,lbl_tr, 1, 0.1)"
   ]
  },
  {
   "cell_type": "code",
   "execution_count": 18,
   "metadata": {},
   "outputs": [
    {
     "name": "stderr",
     "output_type": "stream",
     "text": [
      "100%|██████████| 10000/10000 [00:00<00:00, 14595.25it/s]\n"
     ]
    },
    {
     "data": {
      "text/plain": [
       "0.098"
      ]
     },
     "execution_count": 18,
     "metadata": {},
     "output_type": "execute_result"
    }
   ],
   "source": [
    "nn.test(img_ts,lbl_ts)"
   ]
  },
  {
   "cell_type": "code",
   "execution_count": null,
   "metadata": {},
   "outputs": [
    {
     "data": {
      "text/plain": [
       "array([1., 1., 1., 1., 1., 1., 1., 1., 1., 1., 1., 1., 1., 1., 1., 1.])"
      ]
     },
     "execution_count": 35,
     "metadata": {},
     "output_type": "execute_result"
    }
   ],
   "source": [
    "nn.layers[1].values"
   ]
  },
  {
   "cell_type": "code",
   "execution_count": null,
   "metadata": {},
   "outputs": [],
   "source": [
    "nn.back_propagate(lbl_tr[0])"
   ]
  },
  {
   "cell_type": "code",
   "execution_count": null,
   "metadata": {},
   "outputs": [
    {
     "data": {
      "text/plain": [
       "array([0.9998988 , 0.99990402, 0.99971381, 0.99978931, 0.99950158,\n",
       "       0.99988421, 0.99964177, 0.99985457, 0.99996816, 0.999723  ])"
      ]
     },
     "execution_count": 155,
     "metadata": {},
     "output_type": "execute_result"
    }
   ],
   "source": [
    "\n",
    "nn.feed_forward(img_tr[0])\n",
    "nn.output_vector()"
   ]
  },
  {
   "cell_type": "code",
   "execution_count": null,
   "metadata": {},
   "outputs": [],
   "source": []
  }
 ],
 "metadata": {
  "kernelspec": {
   "display_name": "base",
   "language": "python",
   "name": "python3"
  },
  "language_info": {
   "codemirror_mode": {
    "name": "ipython",
    "version": 3
   },
   "file_extension": ".py",
   "mimetype": "text/x-python",
   "name": "python",
   "nbconvert_exporter": "python",
   "pygments_lexer": "ipython3",
   "version": "3.8.8"
  },
  "orig_nbformat": 4
 },
 "nbformat": 4,
 "nbformat_minor": 2
}
