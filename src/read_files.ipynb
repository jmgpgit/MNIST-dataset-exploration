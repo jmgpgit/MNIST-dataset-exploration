{
 "cells": [
  {
   "cell_type": "code",
   "execution_count": 19,
   "metadata": {},
   "outputs": [],
   "source": [
    "from mnist import MNIST\n",
    "import random\n",
    "import numpy as np\n",
    "import matplotlib.pyplot as plt\n",
    "import itertools"
   ]
  },
  {
   "cell_type": "code",
   "execution_count": 20,
   "metadata": {},
   "outputs": [],
   "source": [
    "mntrain = MNIST('../samples')"
   ]
  },
  {
   "cell_type": "code",
   "execution_count": 21,
   "metadata": {},
   "outputs": [],
   "source": [
    "img_tr,lbl_tr = mntrain.load_training()\n",
    "img_ts,lbl_ts = mntrain.load_testing()\n",
    "img_size = 28 # 28x28 pixels"
   ]
  },
  {
   "cell_type": "code",
   "execution_count": 25,
   "metadata": {},
   "outputs": [
    {
     "name": "stdout",
     "output_type": "stream",
     "text": [
      "Label:  7\n"
     ]
    },
    {
     "data": {
      "image/png": "[encoded data removed]",
      "text/plain": [
       "<Figure size 432x288 with 1 Axes>"
      ]
     },
     "metadata": {
      "needs_background": "light"
     },
     "output_type": "display_data"
    }
   ],
   "source": [
    "index = random.randrange(0,len(img_tr))\n",
    "print(\"Label: \",lbl_tr[index])\n",
    "image = np.array(img_tr[index]).reshape(img_size,img_size)\n",
    "plt.imshow(image, cmap=plt.cm.binary)\n",
    "plt.gcf().axes[0].set_axis_off()"
   ]
  },
  {
   "cell_type": "code",
   "execution_count": null,
   "metadata": {},
   "outputs": [],
   "source": []
  },
  {
   "cell_type": "code",
   "execution_count": 56,
   "metadata": {},
   "outputs": [
    {
     "name": "stdout",
     "output_type": "stream",
     "text": [
      "5\n",
      "4\n",
      "3\n",
      "2\n"
     ]
    }
   ],
   "source": [
    "for neuron in range(5,1,-1):\n",
    "    print(neuron)"
   ]
  },
  {
   "cell_type": "code",
   "execution_count": 57,
   "metadata": {},
   "outputs": [],
   "source": [
    "\n",
    "class Layer:\n",
    "    def __init__(self, depth, length,values=None):\n",
    "        self.depth = depth\n",
    "        self.length = length\n",
    "        self.nodes = np.array([values for i in range(length)]) if values else np.zeros(length)\n",
    "    def __str__(self):\n",
    "        return \"Layer: depth: %d, length: %d, nodes: %s\" % (self.depth, self.length, self.nodes)\n",
    "    def __repr__(self):\n",
    "        return self.__str__()\n",
    "    def __getitem__(self, index):\n",
    "        return self.nodes[index]\n",
    "    def __setitem__(self, index, value):\n",
    "        self.nodes[index].value = value\n",
    "    def __iter__(self):\n",
    "        return iter(self.nodes)\n",
    "    def __len__(self):\n",
    "        return len(self.nodes)\n",
    "    def __contains__(self, item):\n",
    "        return item in self.nodes\n",
    "    def __delitem__(self, index):\n",
    "        del self.nodes[index]\n",
    "    \n",
    "    def get_values(self):\n",
    "        return self.nodes\n",
    "    def set_values(self, values):\n",
    "        self.nodes = np.array(values)\n",
    "    values = property(get_values, set_values)\n",
    "\n",
    "    \n",
    "class Neurons:\n",
    "    def __init__(self, layer1, layer2):\n",
    "        self.layer1 = layer1\n",
    "        self.layer2 = layer2\n",
    "        self.weights = np.random.rand(len(layer2), len(layer1))\n",
    "        self.biases = np.random.rand(len(layer2))\n",
    "\n",
    "            \n",
    "    def __str__(self):\n",
    "        return \"Layer_Connection: layer1: %s, layer2: %s, weights: %s, biases: %s\" % (self.layer1, self.layer2, self.weights, self.biases)\n",
    "    def __repr__(self):\n",
    "        return self.__str__()\n",
    "    def __getitem__(self, index):\n",
    "        return self.weights[index]\n",
    "    def __setitem__(self, index, value):\n",
    "        self.weights[index] = value\n",
    "    def __iter__(self):\n",
    "        return iter(self.weights)\n",
    "    def __len__(self):\n",
    "        return self.weights.shape[0] * self.weights.shape[1]\n",
    "    def __contains__(self, layer):\n",
    "        return layer in (self.layer1, self.layer2)\n",
    "    def __delitem__(self, index):\n",
    "        del self.weights[index]\n",
    "\n",
    "\n",
    "class Neural_Network:\n",
    "    def __init__(self, input_size, output_size,hidden_size, hidden_layers=1):\n",
    "        self.input_size = input_size\n",
    "        self.hidden_size = hidden_size\n",
    "        self.output_size = output_size\n",
    "        self.layers = [Layer(0, input_size)]\n",
    "        self.layers.extend([Layer(i+1, hidden_size) for i in range(hidden_layers)])\n",
    "        self.layers.append(Layer(hidden_layers+1, output_size))\n",
    "        self.neurons = [Neurons(self.layers[i], self.layers[i+1]) for i in range(len(self.layers)-1)]\n",
    "    \n",
    "    def __str__(self):\n",
    "        return \"Neural_Network: input_size: %d, hidden_size: %d, output_size: %d, hidden_layers: %d, layers: %s, connections: %s\" % (self.input_size, self.hidden_size, self.output_size, len(self.layers)-2, self.layers, self.neurons)\n",
    "    def __repr__(self):\n",
    "        return self.__str__()\n",
    "        \n",
    "    def output_vector(self):\n",
    "        return self.layers[-1].values\n",
    "    \n",
    "    def output(self):\n",
    "        return np.argmax(self.output_vector())\n",
    "    \n",
    "    def feed_forward(self, image):\n",
    "        self.layers[0].values = image\n",
    "        for j in self.neurons:\n",
    "            j.layer2.values = np.matmul(j.weights, j.layer1.values) + j.biases\n",
    "            j.layer2.values = 1/(1+np.exp(-j.layer2.values))\n",
    "  \n",
    "               \n",
    "    \n",
    "    def back_propagate(self, expected, factor=0.1):\n",
    "        for neuron in self.neurons[::-1]:\n",
    "            error = expected - neuron.layer2.values\n",
    "            neuron.weights += factor * np.outer(error, neuron.layer1.values)\n",
    "            neuron.biases += factor * error\n",
    "            expected = np.matmul(neuron.weights.T, error)\n",
    "            \n",
    "            \n",
    "            # j = self.neurons[i]\n",
    "            # if i == len(self.neurons)-1:\n",
    "            #     error = expected - j.layer2.values\n",
    "            # else:\n",
    "            #     error = np.matmul(self.neurons[i+1].weights.T, error)\n",
    "            # delta = error * j.layer2.values * (1-j.layer2.values)\n",
    "            # j.weights += factor * np.matmul(delta.reshape(len(delta),1), j.layer1.values.reshape(1,len(j.layer1.values)))\n",
    "            # j.biases += factor * delta\n",
    "            #print(j.weights)\n",
    "            #print(j.biases)\n",
    "            #print(error)\n",
    "            #print(delta)\n",
    "    \n",
    "    def test(self, images, labels):\n",
    "        correct = 0\n",
    "        for i in range(len(images)):\n",
    "            self.feed_forward(images[i])\n",
    "            if self.output() == labels[i]:\n",
    "                correct += 1\n",
    "        return correct/len(images)\n",
    "\n",
    "              \n",
    "    def train(self, images, labels, epochs=1, factor=0.1):\n",
    "        for _ in range(epochs):\n",
    "            for j in range(len(images)):\n",
    "\n",
    "                self.feed_forward(images[j])\n",
    "                expected = np.zeros(self.output_size)\n",
    "                expected[labels[j]] = 1\n",
    "                self.back_propagate(expected,factor)"
   ]
  },
  {
   "cell_type": "code",
   "execution_count": 58,
   "metadata": {},
   "outputs": [],
   "source": [
    "nn = Neural_Network(784, 10, 20, 3)"
   ]
  },
  {
   "cell_type": "code",
   "execution_count": 59,
   "metadata": {},
   "outputs": [
    {
     "name": "stderr",
     "output_type": "stream",
     "text": [
      "<ipython-input-57-6ae88a042566>:81: RuntimeWarning: overflow encountered in exp\n",
      "  j.layer2.values = 1/(1+np.exp(-j.layer2.values))\n"
     ]
    }
   ],
   "source": [
    "nn.train(img_tr,lbl_tr, 10, 0.5)"
   ]
  },
  {
   "cell_type": "code",
   "execution_count": 60,
   "metadata": {},
   "outputs": [
    {
     "name": "stderr",
     "output_type": "stream",
     "text": [
      "<ipython-input-57-6ae88a042566>:81: RuntimeWarning: overflow encountered in exp\n",
      "  j.layer2.values = 1/(1+np.exp(-j.layer2.values))\n"
     ]
    },
    {
     "data": {
      "text/plain": [
       "0.0974"
      ]
     },
     "execution_count": 60,
     "metadata": {},
     "output_type": "execute_result"
    }
   ],
   "source": [
    "nn.test(img_ts,lbl_ts)"
   ]
  },
  {
   "cell_type": "code",
   "execution_count": 204,
   "metadata": {},
   "outputs": [
    {
     "data": {
      "text/plain": [
       "0.9962277807944095"
      ]
     },
     "execution_count": 204,
     "metadata": {},
     "output_type": "execute_result"
    }
   ],
   "source": [
    "nn.output_vector().sum()"
   ]
  },
  {
   "cell_type": "code",
   "execution_count": 173,
   "metadata": {},
   "outputs": [],
   "source": [
    "nn.back_propagate(lbl_tr[0])"
   ]
  },
  {
   "cell_type": "code",
   "execution_count": 155,
   "metadata": {},
   "outputs": [
    {
     "data": {
      "text/plain": [
       "array([0.9998988 , 0.99990402, 0.99971381, 0.99978931, 0.99950158,\n",
       "       0.99988421, 0.99964177, 0.99985457, 0.99996816, 0.999723  ])"
      ]
     },
     "execution_count": 155,
     "metadata": {},
     "output_type": "execute_result"
    }
   ],
   "source": [
    "\n",
    "nn.feed_forward(img_tr[0])\n",
    "nn.output_vector()"
   ]
  },
  {
   "cell_type": "code",
   "execution_count": null,
   "metadata": {},
   "outputs": [],
   "source": []
  }
 ],
 "metadata": {
  "kernelspec": {
   "display_name": "base",
   "language": "python",
   "name": "python3"
  },
  "language_info": {
   "codemirror_mode": {
    "name": "ipython",
    "version": 3
   },
   "file_extension": ".py",
   "mimetype": "text/x-python",
   "name": "python",
   "nbconvert_exporter": "python",
   "pygments_lexer": "ipython3",
   "version": "3.8.8"
  },
  "orig_nbformat": 4
 },
 "nbformat": 4,
 "nbformat_minor": 2
}
