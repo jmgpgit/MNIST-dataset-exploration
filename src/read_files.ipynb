{
 "cells": [
  {
   "cell_type": "code",
   "execution_count": 1,
   "metadata": {},
   "outputs": [],
   "source": [
    "from mnist import MNIST\n",
    "import random\n",
    "import numpy as np\n",
    "import matplotlib.pyplot as plt\n",
    "import itertools\n",
    "from tqdm import tqdm"
   ]
  },
  {
   "cell_type": "code",
   "execution_count": 2,
   "metadata": {},
   "outputs": [],
   "source": [
    "mntrain = MNIST('../samples')"
   ]
  },
  {
   "cell_type": "code",
   "execution_count": 3,
   "metadata": {},
   "outputs": [],
   "source": [
    "img_tr,lbl_tr = mntrain.load_training()\n",
    "img_ts,lbl_ts = mntrain.load_testing()\n",
    "img_size = 28 # 28x28 pixels"
   ]
  },
  {
   "cell_type": "code",
   "execution_count": 4,
   "metadata": {},
   "outputs": [
    {
     "name": "stdout",
     "output_type": "stream",
     "text": [
      "Label:  4\n"
     ]
    },
    {
     "data": {
      "image/png": "[encoded data removed]",
      "text/plain": [
       "<Figure size 432x288 with 1 Axes>"
      ]
     },
     "metadata": {
      "needs_background": "light"
     },
     "output_type": "display_data"
    }
   ],
   "source": [
    "index = random.randrange(0,len(img_tr))\n",
    "print(\"Label: \",lbl_tr[index])\n",
    "image = np.array(img_tr[index]).reshape(img_size,img_size)\n",
    "plt.imshow(image, cmap=plt.cm.binary)\n",
    "plt.gcf().axes[0].set_axis_off()"
   ]
  },
  {
   "cell_type": "code",
   "execution_count": 8,
   "metadata": {},
   "outputs": [
    {
     "data": {
      "text/plain": [
       "[9, 8, 7, 6, 5, 4, 3, 2, 1, 0]"
      ]
     },
     "execution_count": 8,
     "metadata": {},
     "output_type": "execute_result"
    }
   ],
   "source": [
    "x = [0,1,2,3,4,5,6,7,8,9]\n",
    "list(reversed(x))"
   ]
  },
  {
   "cell_type": "code",
   "execution_count": 5,
   "metadata": {},
   "outputs": [
    {
     "data": {
      "text/plain": [
       "array([0., 0., 0., 0., 0.])"
      ]
     },
     "execution_count": 5,
     "metadata": {},
     "output_type": "execute_result"
    }
   ],
   "source": [
    "np.matmul(np.zeros((5,2)),np.array([4,5]))"
   ]
  },
  {
   "cell_type": "code",
   "execution_count": 139,
   "metadata": {},
   "outputs": [
    {
     "name": "stdout",
     "output_type": "stream",
     "text": [
      "0.4108819835872173 0.48027544561705193\n",
      "0.7846679138240524 0.23005638333957856\n",
      "0.5473621735107193 0.47025677829583956\n",
      "0.39910668272713445 0.6513959268059999\n",
      "0.3108400329758101 0.43645317358419444\n",
      "[[0.41088198 0.48027545]\n",
      " [0.78466791 0.23005638]\n",
      " [0.54736217 0.47025678]\n",
      " [0.39910668 0.65139593]\n",
      " [0.31084003 0.43645317]]\n"
     ]
    }
   ],
   "source": [
    "weights = np.random.rand(5, 2)\n",
    "biases = np.random.rand(5,1)\n",
    "for i,j in weights:\n",
    "    print(i,j)\n",
    "print(weights)"
   ]
  },
  {
   "cell_type": "code",
   "execution_count": 149,
   "metadata": {},
   "outputs": [],
   "source": [
    "def sigmoid(x):\n",
    "    return 1/(1+np.exp(-x))\n",
    "def d_sigmoid(x):\n",
    "    return sigmoid(x)*(1-sigmoid(x))\n",
    "def d_sig(x):\n",
    "    return x*(1-x)\n",
    "\n",
    "class Layer:\n",
    "    def __init__(self, depth, length,values=None):\n",
    "        self.depth = depth\n",
    "        self.length = length\n",
    "        self.nodes = np.array([values for i in range(length)]) if values else np.zeros(length)\n",
    "    def __str__(self):\n",
    "        return \"Layer: depth: %d, length: %d, nodes: %s\" % (self.depth, self.length, self.nodes)\n",
    "    def __repr__(self):\n",
    "        return self.__str__()\n",
    "    def __getitem__(self, index):\n",
    "        return self.nodes[index]\n",
    "    def __setitem__(self, index, value):\n",
    "        self.nodes[index].value = value\n",
    "    def __iter__(self):\n",
    "        return iter(self.nodes)\n",
    "    def __len__(self):\n",
    "        return len(self.nodes)\n",
    "    def __contains__(self, item):\n",
    "        return item in self.nodes\n",
    "    def __delitem__(self, index):\n",
    "        del self.nodes[index]\n",
    "    \n",
    "    def get_values(self):\n",
    "        return self.nodes\n",
    "    def set_values(self, values):\n",
    "        self.nodes = np.array(values)\n",
    "    values = property(get_values, set_values)\n",
    "\n",
    "    \n",
    "class Neurons:\n",
    "    def __init__(self, layer1, layer2):\n",
    "        self.layer1 = layer1\n",
    "        self.layer2 = layer2\n",
    "        self.weights = np.random.rand(len(layer2), len(layer1))\n",
    "        self.biases = np.random.rand(len(layer2))\n",
    "\n",
    "            \n",
    "    def __str__(self):\n",
    "        return \"Layer_Connection: layer1: %s, layer2: %s, weights: %s, biases: %s\" % (self.layer1, self.layer2, self.weights, self.biases)\n",
    "    def __repr__(self):\n",
    "        return self.__str__()\n",
    "    def __getitem__(self, index):\n",
    "        return self.weights[index]\n",
    "    def __setitem__(self, index, value):\n",
    "        self.weights[index] = value\n",
    "    def __iter__(self):\n",
    "        return iter(self.weights)\n",
    "    def __len__(self):\n",
    "        return self.weights.shape[0] * self.weights.shape[1]\n",
    "    def __contains__(self, layer):\n",
    "        return layer in (self.layer1, self.layer2)\n",
    "    def __delitem__(self, index):\n",
    "        del self.weights[index]\n",
    "\n",
    "\n",
    "class Neural_Network:\n",
    "    def __init__(self, input_size, output_size,hidden_size, hidden_layers=1):\n",
    "        self.input_size = input_size\n",
    "        self.hidden_size = hidden_size\n",
    "        self.output_size = output_size\n",
    "        self.layers = [Layer(0, input_size)]\n",
    "        self.layers.extend([Layer(i+1, hidden_size) for i in range(hidden_layers)])\n",
    "        self.layers.append(Layer(hidden_layers+1, output_size))\n",
    "        self.neurons = [Neurons(self.layers[i], self.layers[i+1]) for i in range(len(self.layers)-1)]\n",
    "    \n",
    "    def __str__(self):\n",
    "        return \"Neural_Network: input_size: %d, hidden_size: %d, output_size: %d, hidden_layers: %d, layers: %s, connections: %s\" % (self.input_size, self.hidden_size, self.output_size, len(self.layers)-2, self.layers, self.neurons)\n",
    "    def __repr__(self):\n",
    "        return self.__str__()\n",
    "        \n",
    "    def output_vector(self):\n",
    "        return self.layers[-1].values\n",
    "    \n",
    "    def output(self):\n",
    "        return np.argmax(self.output_vector())\n",
    "    \n",
    "    def feed_forward(self, image):\n",
    "        self.layers[0].values = image\n",
    "        for j in self.neurons:\n",
    "            j.layer2.values = sigmoid(np.matmul(j.weights, j.layer1.values) - j.biases)\n",
    "  \n",
    "\n",
    "    def back_propagate(self, expected, factor):\n",
    "        print(expected)\n",
    "        for i in reversed(self.neurons):\n",
    "            diff = i.layer2.values - expected\n",
    "            der = d_sig(i.layer2.values)\n",
    "            coeff = factor * 2 * diff * der\n",
    "\n",
    "            expected = np.matmul(i.weights.T, diff)\n",
    "            print(i.weights.shape, diff.shape,coeff.shape,expected.shape)\n",
    "            for k, j in i.weights:\n",
    "                i.weights[k][j] -= coeff[k] * i.layer1.values[j]\n",
    "            print(i.weights.shape)\n",
    "            i.biases = coeff\n",
    "            \n",
    "            \n",
    "            \n",
    "            \n",
    "            # j = self.neurons[i]\n",
    "            # if i == len(self.neurons)-1:\n",
    "            #     error = expected - j.layer2.values\n",
    "            # else:\n",
    "            #     error = np.matmul(self.neurons[i+1].weights.T, error)\n",
    "            # delta = error * j.layer2.values * (1-j.layer2.values)\n",
    "            # j.weights += factor * np.matmul(delta.reshape(len(delta),1), j.layer1.values.reshape(1,len(j.layer1.values)))\n",
    "            # j.biases += factor * delta\n",
    "            #print(j.weights)\n",
    "            #print(j.biases)\n",
    "            #print(error)\n",
    "            #print(delta)\n",
    "    \n",
    "    def test(self, images, labels):\n",
    "        correct = 0\n",
    "        for i in tqdm(range(len(images))):\n",
    "            self.feed_forward(images[i])\n",
    "            if self.output() == labels[i]:\n",
    "                correct += 1\n",
    "        return correct/len(images)\n",
    "\n",
    "              \n",
    "    def train(self, images, labels, epochs=1, factor=0.1):\n",
    "        for _ in range(epochs):\n",
    "            for j in tqdm(range(len(images))):\n",
    "\n",
    "                self.feed_forward(images[j])\n",
    "                expected = np.zeros(self.output_size)\n",
    "                expected[labels[j]] = 1\n",
    "                self.back_propagate(expected,factor)"
   ]
  },
  {
   "cell_type": "code",
   "execution_count": 150,
   "metadata": {},
   "outputs": [],
   "source": [
    "nn = Neural_Network(784, 10, 16, 1)"
   ]
  },
  {
   "cell_type": "code",
   "execution_count": 151,
   "metadata": {},
   "outputs": [
    {
     "name": "stderr",
     "output_type": "stream",
     "text": [
      "  0%|          | 0/60000 [00:00<?, ?it/s]"
     ]
    },
    {
     "name": "stdout",
     "output_type": "stream",
     "text": [
      "[0. 0. 0. 0. 0. 1. 0. 0. 0. 0.]\n",
      "(10, 16) (10,) (10,) (16,)\n"
     ]
    },
    {
     "name": "stderr",
     "output_type": "stream",
     "text": [
      "\n"
     ]
    },
    {
     "ename": "ValueError",
     "evalue": "too many values to unpack (expected 2)",
     "output_type": "error",
     "traceback": [
      "\u001b[1;31m---------------------------------------------------------------------------\u001b[0m",
      "\u001b[1;31mValueError\u001b[0m                                Traceback (most recent call last)",
      "\u001b[1;32m<ipython-input-151-677fa6407a13>\u001b[0m in \u001b[0;36m<module>\u001b[1;34m\u001b[0m\n\u001b[1;32m----> 1\u001b[1;33m \u001b[0mnn\u001b[0m\u001b[1;33m.\u001b[0m\u001b[0mtrain\u001b[0m\u001b[1;33m(\u001b[0m\u001b[0mimg_tr\u001b[0m\u001b[1;33m,\u001b[0m\u001b[0mlbl_tr\u001b[0m\u001b[1;33m,\u001b[0m \u001b[1;36m1\u001b[0m\u001b[1;33m,\u001b[0m \u001b[1;36m0.1\u001b[0m\u001b[1;33m)\u001b[0m\u001b[1;33m\u001b[0m\u001b[1;33m\u001b[0m\u001b[0m\n\u001b[0m",
      "\u001b[1;32m<ipython-input-149-600110664154>\u001b[0m in \u001b[0;36mtrain\u001b[1;34m(self, images, labels, epochs, factor)\u001b[0m\n\u001b[0;32m    135\u001b[0m                 \u001b[0mexpected\u001b[0m \u001b[1;33m=\u001b[0m \u001b[0mnp\u001b[0m\u001b[1;33m.\u001b[0m\u001b[0mzeros\u001b[0m\u001b[1;33m(\u001b[0m\u001b[0mself\u001b[0m\u001b[1;33m.\u001b[0m\u001b[0moutput_size\u001b[0m\u001b[1;33m)\u001b[0m\u001b[1;33m\u001b[0m\u001b[1;33m\u001b[0m\u001b[0m\n\u001b[0;32m    136\u001b[0m                 \u001b[0mexpected\u001b[0m\u001b[1;33m[\u001b[0m\u001b[0mlabels\u001b[0m\u001b[1;33m[\u001b[0m\u001b[0mj\u001b[0m\u001b[1;33m]\u001b[0m\u001b[1;33m]\u001b[0m \u001b[1;33m=\u001b[0m \u001b[1;36m1\u001b[0m\u001b[1;33m\u001b[0m\u001b[1;33m\u001b[0m\u001b[0m\n\u001b[1;32m--> 137\u001b[1;33m                 \u001b[0mself\u001b[0m\u001b[1;33m.\u001b[0m\u001b[0mback_propagate\u001b[0m\u001b[1;33m(\u001b[0m\u001b[0mexpected\u001b[0m\u001b[1;33m,\u001b[0m\u001b[0mfactor\u001b[0m\u001b[1;33m)\u001b[0m\u001b[1;33m\u001b[0m\u001b[1;33m\u001b[0m\u001b[0m\n\u001b[0m",
      "\u001b[1;32m<ipython-input-149-600110664154>\u001b[0m in \u001b[0;36mback_propagate\u001b[1;34m(self, expected, factor)\u001b[0m\n\u001b[0;32m     97\u001b[0m             \u001b[0mexpected\u001b[0m \u001b[1;33m=\u001b[0m \u001b[0mnp\u001b[0m\u001b[1;33m.\u001b[0m\u001b[0mmatmul\u001b[0m\u001b[1;33m(\u001b[0m\u001b[0mi\u001b[0m\u001b[1;33m.\u001b[0m\u001b[0mweights\u001b[0m\u001b[1;33m.\u001b[0m\u001b[0mT\u001b[0m\u001b[1;33m,\u001b[0m \u001b[0mdiff\u001b[0m\u001b[1;33m)\u001b[0m\u001b[1;33m\u001b[0m\u001b[1;33m\u001b[0m\u001b[0m\n\u001b[0;32m     98\u001b[0m             \u001b[0mprint\u001b[0m\u001b[1;33m(\u001b[0m\u001b[0mi\u001b[0m\u001b[1;33m.\u001b[0m\u001b[0mweights\u001b[0m\u001b[1;33m.\u001b[0m\u001b[0mshape\u001b[0m\u001b[1;33m,\u001b[0m \u001b[0mdiff\u001b[0m\u001b[1;33m.\u001b[0m\u001b[0mshape\u001b[0m\u001b[1;33m,\u001b[0m\u001b[0mcoeff\u001b[0m\u001b[1;33m.\u001b[0m\u001b[0mshape\u001b[0m\u001b[1;33m,\u001b[0m\u001b[0mexpected\u001b[0m\u001b[1;33m.\u001b[0m\u001b[0mshape\u001b[0m\u001b[1;33m)\u001b[0m\u001b[1;33m\u001b[0m\u001b[1;33m\u001b[0m\u001b[0m\n\u001b[1;32m---> 99\u001b[1;33m             \u001b[1;32mfor\u001b[0m \u001b[0mk\u001b[0m\u001b[1;33m,\u001b[0m \u001b[0mj\u001b[0m \u001b[1;32min\u001b[0m \u001b[0mi\u001b[0m\u001b[1;33m.\u001b[0m\u001b[0mweights\u001b[0m\u001b[1;33m:\u001b[0m\u001b[1;33m\u001b[0m\u001b[1;33m\u001b[0m\u001b[0m\n\u001b[0m\u001b[0;32m    100\u001b[0m                 \u001b[0mprint\u001b[0m\u001b[1;33m(\u001b[0m\u001b[0mk\u001b[0m\u001b[1;33m,\u001b[0m\u001b[0mj\u001b[0m\u001b[1;33m)\u001b[0m\u001b[1;33m\u001b[0m\u001b[1;33m\u001b[0m\u001b[0m\n\u001b[0;32m    101\u001b[0m                 \u001b[0mi\u001b[0m\u001b[1;33m.\u001b[0m\u001b[0mweights\u001b[0m\u001b[1;33m[\u001b[0m\u001b[0mk\u001b[0m\u001b[1;33m]\u001b[0m\u001b[1;33m[\u001b[0m\u001b[0mj\u001b[0m\u001b[1;33m]\u001b[0m \u001b[1;33m-=\u001b[0m \u001b[0mcoeff\u001b[0m\u001b[1;33m[\u001b[0m\u001b[0mk\u001b[0m\u001b[1;33m]\u001b[0m \u001b[1;33m*\u001b[0m \u001b[0mi\u001b[0m\u001b[1;33m.\u001b[0m\u001b[0mlayer1\u001b[0m\u001b[1;33m.\u001b[0m\u001b[0mvalues\u001b[0m\u001b[1;33m[\u001b[0m\u001b[0mj\u001b[0m\u001b[1;33m]\u001b[0m\u001b[1;33m\u001b[0m\u001b[1;33m\u001b[0m\u001b[0m\n",
      "\u001b[1;31mValueError\u001b[0m: too many values to unpack (expected 2)"
     ]
    }
   ],
   "source": [
    "nn.train(img_tr,lbl_tr, 1, 0.1)"
   ]
  },
  {
   "cell_type": "code",
   "execution_count": 71,
   "metadata": {},
   "outputs": [
    {
     "name": "stderr",
     "output_type": "stream",
     "text": [
      "100%|██████████| 10000/10000 [00:01<00:00, 8486.84it/s]\n"
     ]
    },
    {
     "data": {
      "text/plain": [
       "0.0892"
      ]
     },
     "execution_count": 71,
     "metadata": {},
     "output_type": "execute_result"
    }
   ],
   "source": [
    "nn.test(img_ts,lbl_ts)"
   ]
  },
  {
   "cell_type": "code",
   "execution_count": 35,
   "metadata": {},
   "outputs": [
    {
     "data": {
      "text/plain": [
       "array([1., 1., 1., 1., 1., 1., 1., 1., 1., 1., 1., 1., 1., 1., 1., 1.])"
      ]
     },
     "execution_count": 35,
     "metadata": {},
     "output_type": "execute_result"
    }
   ],
   "source": [
    "nn.layers[1].values"
   ]
  },
  {
   "cell_type": "code",
   "execution_count": 173,
   "metadata": {},
   "outputs": [],
   "source": [
    "nn.back_propagate(lbl_tr[0])"
   ]
  },
  {
   "cell_type": "code",
   "execution_count": 155,
   "metadata": {},
   "outputs": [
    {
     "data": {
      "text/plain": [
       "array([0.9998988 , 0.99990402, 0.99971381, 0.99978931, 0.99950158,\n",
       "       0.99988421, 0.99964177, 0.99985457, 0.99996816, 0.999723  ])"
      ]
     },
     "execution_count": 155,
     "metadata": {},
     "output_type": "execute_result"
    }
   ],
   "source": [
    "\n",
    "nn.feed_forward(img_tr[0])\n",
    "nn.output_vector()"
   ]
  },
  {
   "cell_type": "code",
   "execution_count": null,
   "metadata": {},
   "outputs": [],
   "source": []
  }
 ],
 "metadata": {
  "kernelspec": {
   "display_name": "base",
   "language": "python",
   "name": "python3"
  },
  "language_info": {
   "codemirror_mode": {
    "name": "ipython",
    "version": 3
   },
   "file_extension": ".py",
   "mimetype": "text/x-python",
   "name": "python",
   "nbconvert_exporter": "python",
   "pygments_lexer": "ipython3",
   "version": "3.8.8"
  },
  "orig_nbformat": 4
 },
 "nbformat": 4,
 "nbformat_minor": 2
}
